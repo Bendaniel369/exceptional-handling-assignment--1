{
 "cells": [
  {
   "cell_type": "markdown",
   "id": "a3e9582c-b961-447a-8c54-c359650a3457",
   "metadata": {},
   "source": [
    "Q1. What is an Exception in python? Write the difference between Exceptions and syntax errors?"
   ]
  },
  {
   "cell_type": "markdown",
   "id": "111dab7f-96de-4995-8371-cc2f74d793cd",
   "metadata": {},
   "source": [
    "A1. Exception is a kind of error which occur during the runtime of program, disrupts the normal flow of the program.\n",
    "\n",
    "EXCEPTION:-It is type of abnormal event when occured during the execution of program. Exceptions are usually caused by runtime errors, such as dividing by zero, trying to access an element in an array with an out-of-bounds index, or trying to access a file that does not exist. It will be handle with the help try-except handling.\n",
    "\n",
    "SYNTAX Error:- it is a type of error which shown up when there is some mistakes in source code when program is being complied or executed, i.e., written code is not as per the language used in python."
   ]
  },
  {
   "cell_type": "markdown",
   "id": "132a1e6f-88b6-4246-b3e1-5d013d8b5893",
   "metadata": {},
   "source": [
    "Q2. What happens when an exception is not handled? Explain with an example .\n",
    "\n",
    "A1. When an Exception is not handled , then complier abort to run the source code(i.e., program is crash),an exception message will be print in the console.\n",
    " \n",
    " EXAMPLE:-"
   ]
  },
  {
   "cell_type": "code",
   "execution_count": 5,
   "id": "629f4e5c-1b47-4c00-8d6b-191b72c7ffa9",
   "metadata": {},
   "outputs": [],
   "source": [
    "\n",
    "def check():\n",
    "    a=int(input(\"Enter any digit-\"))\n",
    "    a/0\n",
    "    pass"
   ]
  },
  {
   "cell_type": "code",
   "execution_count": 6,
   "id": "16fc7386-88f9-479f-b70b-4e2f02f4b226",
   "metadata": {},
   "outputs": [
    {
     "name": "stdin",
     "output_type": "stream",
     "text": [
      "Enter any digit- 23\n"
     ]
    },
    {
     "ename": "ZeroDivisionError",
     "evalue": "division by zero",
     "output_type": "error",
     "traceback": [
      "\u001b[0;31m---------------------------------------------------------------------------\u001b[0m",
      "\u001b[0;31mZeroDivisionError\u001b[0m                         Traceback (most recent call last)",
      "Cell \u001b[0;32mIn[6], line 1\u001b[0m\n\u001b[0;32m----> 1\u001b[0m \u001b[43mcheck\u001b[49m\u001b[43m(\u001b[49m\u001b[43m)\u001b[49m\n",
      "Cell \u001b[0;32mIn[5], line 3\u001b[0m, in \u001b[0;36mcheck\u001b[0;34m()\u001b[0m\n\u001b[1;32m      1\u001b[0m \u001b[38;5;28;01mdef\u001b[39;00m \u001b[38;5;21mcheck\u001b[39m():\n\u001b[1;32m      2\u001b[0m     a\u001b[38;5;241m=\u001b[39m\u001b[38;5;28mint\u001b[39m(\u001b[38;5;28minput\u001b[39m(\u001b[38;5;124m\"\u001b[39m\u001b[38;5;124mEnter any digit-\u001b[39m\u001b[38;5;124m\"\u001b[39m))\n\u001b[0;32m----> 3\u001b[0m     \u001b[43ma\u001b[49m\u001b[38;5;241;43m/\u001b[39;49m\u001b[38;5;241;43m0\u001b[39;49m\n\u001b[1;32m      4\u001b[0m     \u001b[38;5;28;01mpass\u001b[39;00m\n",
      "\u001b[0;31mZeroDivisionError\u001b[0m: division by zero"
     ]
    }
   ],
   "source": [
    "check()\n"
   ]
  },
  {
   "cell_type": "markdown",
   "id": "5f69d8da-c9e1-473e-94f4-86632ebe53a7",
   "metadata": {},
   "source": [
    "Q3. Which Python statements are used to catch and handle exceptions? Explain with an example.\n",
    "A1. Try and Except is used to handle Exceptions in Python. To us this statement we have to put all the functions and statements in the \"try\" block then write some output in the \"except\" block . If complier is facing any problem while in the execution of program then it directly go through \"except\" block and shows the output which is written in that block..\n",
    "\n",
    "EXAMPLE:-\n"
   ]
  },
  {
   "cell_type": "code",
   "execution_count": 32,
   "id": "6fc6a313-735a-4177-810e-6912f6132738",
   "metadata": {},
   "outputs": [],
   "source": [
    "# this progam takes two integer value from the user and diplay their division \n",
    "\n",
    "def division(): \n",
    "    try:\n",
    "        a=int(input(\"enter the value of divident-\"))\n",
    "        b=int(input(\"enter the value of divisor-\"))\n",
    "        return \"your required answer is \" ,a/b\n",
    "    except Exception as e:\n",
    "        print(\"ERROR your entered divisor is Zero-\", e)"
   ]
  },
  {
   "cell_type": "markdown",
   "id": "37114c09-deb6-4ab2-b878-6dcce82db2c4",
   "metadata": {},
   "source": [
    "Q4. Explain with an example:\n",
    "    \n",
    "    a. try and else\n",
    "    \n",
    "    b. finally\n",
    "    \n",
    "    c. raise\n",
    "\n",
    "A4.(a)try and else "
   ]
  },
  {
   "cell_type": "code",
   "execution_count": 42,
   "id": "16e7706e-d2f8-4b47-ab7f-961155ad6e54",
   "metadata": {},
   "outputs": [],
   "source": [
    "def division1(): \n",
    "    try:\n",
    "        a=int(input(\"enter the value of divident-\"))\n",
    "        b=int(input(\"enter the value of divisor-\"))\n",
    "        print( \"your required answer is \" ,a/b)\n",
    "    except Exception as e:\n",
    "        print(\"ERROR your entered divisor is Zero-\", e)\n",
    "    else :\n",
    "        c=a+b\n",
    "        print (\" sum of given values is - %d \" %c)"
   ]
  },
  {
   "cell_type": "markdown",
   "id": "dc561c14-b984-42eb-8626-d33b52093ff8",
   "metadata": {},
   "source": [
    "A4 (b) finally : it will executed whether your try executed or not \n",
    "(with or without except block )"
   ]
  },
  {
   "cell_type": "code",
   "execution_count": 45,
   "id": "cf6f564d-7877-47d3-bcef-dea2ddd65aa2",
   "metadata": {},
   "outputs": [],
   "source": [
    "def check_finally(a,b):\n",
    "    try :\n",
    "        a/b\n",
    "    finally:\n",
    "        print(\"you executed your program\")"
   ]
  },
  {
   "cell_type": "markdown",
   "id": "fbf14ae1-d14d-4a67-9161-6057d12ad334",
   "metadata": {},
   "source": [
    "Ans4 (c) raise"
   ]
  },
  {
   "cell_type": "code",
   "execution_count": 68,
   "id": "a62303ae-f533-4d5c-9ba1-c6153aef3c7f",
   "metadata": {},
   "outputs": [],
   "source": [
    "class SalaryNotInRangeError(Exception):\n",
    "   \n",
    "\n",
    "    def __init__(self,message):\n",
    "        self.salary = salary\n",
    "        self.message = message\n",
    "\n",
    "\n",
    "def salary():\n",
    "    salary = int(input(\"Enter salary amount: \"))\n",
    "    if salary not in range(5000, 15000):\n",
    "        raise SalaryNotInRangeError(\"Salary is not in (5000, 15000) range\")\n",
    "    else :\n",
    "        print(\"Entered salary is in the range of (5000,15000)\")"
   ]
  },
  {
   "cell_type": "code",
   "execution_count": null,
   "id": "814d9396-be2b-4e27-b17e-4caab53f8bfa",
   "metadata": {},
   "outputs": [],
   "source": [
    "\n"
   ]
  },
  {
   "cell_type": "markdown",
   "id": "cc30b914-94a6-4989-bdc5-1b3e6e478e2e",
   "metadata": {},
   "source": [
    "Q5.What are Custom Exceptions in python? Why do we need Custom Exceptions? Explain with an example."
   ]
  },
  {
   "cell_type": "markdown",
   "id": "eb781caf-ffd8-4ccc-a8d6-134179ee5683",
   "metadata": {},
   "source": [
    "Answer5:\n",
    "    Custom exceptions provide you the flexibility to add attributes and methods that are not part of a standard python code. These can store additional information, methods that can be used to handle or present the exception to a user. i.e., custom based error which can be used to show that user inputs are not correct as per to run the further source code of program.\n",
    "    \n",
    "   Custom exceptions will add information about problems with a project. This lets you write code that combines Python code and explains what went wrong in a way.\n",
    "    \n",
    "    EXAMPLE:-"
   ]
  },
  {
   "cell_type": "code",
   "execution_count": 75,
   "id": "8d2b72ea-ae47-43ea-8fbe-b467e0f7b582",
   "metadata": {},
   "outputs": [],
   "source": [
    "class check_num(Exception):\n",
    "    def __init__(self,result):\n",
    "        self.result=result\n",
    "\n",
    "def number():\n",
    "    a=int(input(\"Enter any natural number \"))\n",
    "    if a<0:\n",
    "        raise check_num(\"Your entered number is negative(not natural)\")\n",
    "    else :\n",
    "        print(\"your enetred number is correct (natural number) \")"
   ]
  },
  {
   "cell_type": "markdown",
   "id": "005e2409-cf8c-4964-ac9d-4f213d0d596b",
   "metadata": {},
   "source": [
    "Q6. Create a custom exception class. Use this class to handle an exception.\n",
    "\n",
    "Answer6:-\n"
   ]
  },
  {
   "cell_type": "code",
   "execution_count": 77,
   "id": "483f92c4-9288-4aa2-8700-175a412b2367",
   "metadata": {},
   "outputs": [],
   "source": [
    "class check_num1(Exception):\n",
    "    def __init__(self,result):\n",
    "        self.result=result\n",
    "\n",
    "def number():\n",
    "    a=int(input(\"Enter any natural number \"))\n",
    "    if a<0:\n",
    "        raise check_num1(\"Your entered number is negative(not natural)\")\n",
    "    elif a==float:\n",
    "        raise check_num1(\"Your entered number is in decimal (not natural)\")\n",
    "    elif a==str:\n",
    "        raise check_num1(\"you didn't enter a valid number\" )\n",
    "    else :\n",
    "        print(\"your enetred number is correct (natural number) \")\n"
   ]
  },
  {
   "cell_type": "code",
   "execution_count": 78,
   "id": "ce267a83-e263-42b5-b8fc-abf9a4c37af3",
   "metadata": {},
   "outputs": [
    {
     "ename": "TypeError",
     "evalue": "number() takes 0 positional arguments but 1 was given",
     "output_type": "error",
     "traceback": [
      "\u001b[0;31m---------------------------------------------------------------------------\u001b[0m",
      "\u001b[0;31mTypeError\u001b[0m                                 Traceback (most recent call last)",
      "Cell \u001b[0;32mIn[83], line 1\u001b[0m\n\u001b[0;32m----> 1\u001b[0m \u001b[43mnumber\u001b[49m\u001b[43m(\u001b[49m\u001b[38;5;124;43m\"\u001b[39;49m\u001b[38;5;124;43mben\u001b[39;49m\u001b[38;5;124;43m\"\u001b[39;49m\u001b[43m)\u001b[49m\n",
      "\u001b[0;31mTypeError\u001b[0m: number() takes 0 positional arguments but 1 was given"
     ]
    }
   ],
   "source": [
    "number()\n"
   ]
  },
  {
   "cell_type": "code",
   "execution_count": null,
   "id": "f2cd2717-dce2-4e62-939a-9835230387b7",
   "metadata": {},
   "outputs": [],
   "source": []
  }
 ],
 "metadata": {
  "kernelspec": {
   "display_name": "Python 3 (ipykernel)",
   "language": "python",
   "name": "python3"
  },
  "language_info": {
   "codemirror_mode": {
    "name": "ipython",
    "version": 3
   },
   "file_extension": ".py",
   "mimetype": "text/x-python",
   "name": "python",
   "nbconvert_exporter": "python",
   "pygments_lexer": "ipython3",
   "version": "3.10.8"
  }
 },
 "nbformat": 4,
 "nbformat_minor": 5
}
